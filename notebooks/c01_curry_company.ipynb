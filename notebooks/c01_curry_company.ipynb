{
 "cells": [
  {
   "attachments": {},
   "cell_type": "markdown",
   "metadata": {},
   "source": [
    "# 0.0 IMPORTS"
   ]
  },
  {
   "cell_type": "code",
   "execution_count": 55,
   "metadata": {},
   "outputs": [],
   "source": [
    "import pandas as pd\n",
    "import inflection\n",
    "import regex as re"
   ]
  },
  {
   "attachments": {},
   "cell_type": "markdown",
   "metadata": {},
   "source": [
    "## 0.1 Helper Functions"
   ]
  },
  {
   "attachments": {},
   "cell_type": "markdown",
   "metadata": {},
   "source": [
    "## 0.2 Loading Data"
   ]
  },
  {
   "cell_type": "code",
   "execution_count": 56,
   "metadata": {},
   "outputs": [
    {
     "data": {
      "text/plain": [
       "Index(['ID', 'Delivery_person_ID', 'Delivery_person_Age',\n",
       "       'Delivery_person_Ratings', 'Restaurant_latitude',\n",
       "       'Restaurant_longitude', 'Delivery_location_latitude',\n",
       "       'Delivery_location_longitude', 'Order_Date', 'Time_Orderd',\n",
       "       'Time_Order_picked', 'Weatherconditions', 'Road_traffic_density',\n",
       "       'Vehicle_condition', 'Type_of_order', 'Type_of_vehicle',\n",
       "       'multiple_deliveries', 'Festival', 'City', 'Time_taken(min)'],\n",
       "      dtype='object')"
      ]
     },
     "execution_count": 56,
     "metadata": {},
     "output_type": "execute_result"
    }
   ],
   "source": [
    "df = pd.read_csv('../repos/train.csv')\n",
    "df.columns"
   ]
  },
  {
   "attachments": {},
   "cell_type": "markdown",
   "metadata": {},
   "source": [
    "# 1.0 DESCRICAO DOS DADOS"
   ]
  },
  {
   "cell_type": "code",
   "execution_count": 57,
   "metadata": {},
   "outputs": [],
   "source": [
    "df1 = df.copy()"
   ]
  },
  {
   "attachments": {},
   "cell_type": "markdown",
   "metadata": {},
   "source": [
    "## 1.1. Rename Columns\n"
   ]
  },
  {
   "cell_type": "code",
   "execution_count": 58,
   "metadata": {},
   "outputs": [],
   "source": [
    "cols_old = ['ID', 'Delivery_person_ID', 'Delivery_person_Age', 'Delivery_person_Ratings', 'Restaurant_latitude',\n",
    "            'Restaurant_longitude', 'Delivery_location_latitude', 'Delivery_location_longitude', 'Order_Date', 'Time_Orderd',\n",
    "            'Time_Order_picked', 'Weatherconditions', 'Road_traffic_density', 'Vehicle_condition', 'Type_of_order', 'Type_of_vehicle',\n",
    "            'multiple_deliveries', 'Festival', 'City', 'Time_taken(min)']\n",
    "snakecase = lambda x: inflection.underscore(x)\n",
    "cols_new = list(map(snakecase, cols_old))\n",
    "\n",
    "#rename\n",
    "df1.columns = cols_new"
   ]
  },
  {
   "attachments": {},
   "cell_type": "markdown",
   "metadata": {},
   "source": [
    "## 1.2. Data Dimensions\n"
   ]
  },
  {
   "cell_type": "code",
   "execution_count": 59,
   "metadata": {},
   "outputs": [
    {
     "name": "stdout",
     "output_type": "stream",
     "text": [
      "Número de linhas: 45593\n",
      "Número de colunas: 20\n"
     ]
    }
   ],
   "source": [
    "print('Número de linhas: {}'.format(df1.shape[0]))\n",
    "print('Número de colunas: {}'.format(df1.shape[1]))"
   ]
  },
  {
   "attachments": {},
   "cell_type": "markdown",
   "metadata": {},
   "source": [
    "## 1.3. Data Types\n"
   ]
  },
  {
   "cell_type": "code",
   "execution_count": 60,
   "metadata": {},
   "outputs": [
    {
     "data": {
      "text/plain": [
       "id                              object\n",
       "delivery_person_id              object\n",
       "delivery_person_age             object\n",
       "delivery_person_ratings         object\n",
       "restaurant_latitude            float64\n",
       "restaurant_longitude           float64\n",
       "delivery_location_latitude     float64\n",
       "delivery_location_longitude    float64\n",
       "order_date                      object\n",
       "time_orderd                     object\n",
       "time_order_picked               object\n",
       "weatherconditions               object\n",
       "road_traffic_density            object\n",
       "vehicle_condition                int64\n",
       "type_of_order                   object\n",
       "type_of_vehicle                 object\n",
       "multiple_deliveries             object\n",
       "festival                        object\n",
       "city                            object\n",
       "time_taken(min)                 object\n",
       "dtype: object"
      ]
     },
     "execution_count": 60,
     "metadata": {},
     "output_type": "execute_result"
    }
   ],
   "source": [
    "df1.dtypes\n"
   ]
  },
  {
   "attachments": {},
   "cell_type": "markdown",
   "metadata": {},
   "source": [
    "## 1.4. Check NA\n"
   ]
  },
  {
   "attachments": {},
   "cell_type": "markdown",
   "metadata": {},
   "source": [
    "## 1.5. Fillout NA\n"
   ]
  },
  {
   "cell_type": "code",
   "execution_count": 61,
   "metadata": {},
   "outputs": [],
   "source": [
    "# Tirar linhas com Nan\n",
    "linhas_selecionadas = (df1['delivery_person_age'] != 'NaN ')\n",
    "df1 = df1.loc[linhas_selecionadas, :].copy()\n",
    "\n",
    "linhas_selecionadas = (df1['road_traffic_density'] != 'NaN ')\n",
    "df1 = df1.loc[linhas_selecionadas, :].copy()\n",
    "\n",
    "linhas_selecionadas = (df1['time_taken(min)'] != 'NaN ')\n",
    "df1 = df1.loc[linhas_selecionadas, :].copy()\n",
    "\n",
    "linhas_selecionadas = (df1['festival'] != 'NaN ')\n",
    "df1 = df1.loc[linhas_selecionadas, :].copy()\n",
    "\n",
    "linhas_selecionadas = (df1['city'] != 'NaN ')\n",
    "df1 = df1.loc[linhas_selecionadas, :].copy()"
   ]
  },
  {
   "attachments": {},
   "cell_type": "markdown",
   "metadata": {},
   "source": [
    "## 1.6. Change Types\n"
   ]
  },
  {
   "cell_type": "code",
   "execution_count": 62,
   "metadata": {},
   "outputs": [],
   "source": [
    "# Converter a coluna age para int\n",
    "df1['delivery_person_age'] = df1['delivery_person_age'].astype('int64')\n",
    "\n",
    "# converter a coluna ratings de texto para número decimal (float)\n",
    "df1['delivery_person_ratings'] = df1['delivery_person_ratings'].astype(\n",
    "    float)\n",
    "\n",
    "# converter a order_date de texto para data\n",
    "df1['order_date'] = pd.to_datetime(df1['order_date'], format='%d-%m-%Y')\n",
    "\n",
    "# converter multiple_deliveries de texto para numero inteiro (int)\n",
    "linhas_selecionadas = (df1['multiple_deliveries'] != 'NaN ')\n",
    "df1 = df1.loc[linhas_selecionadas, :].copy()\n",
    "df1['multiple_deliveries'] = df1['multiple_deliveries'].astype('int64')\n",
    "\n",
    "# Remover o texto de números\n",
    "df1.loc[:, \"id\"] = df1.loc[:, \"id\"].str.strip()\n",
    "df1.loc[:, \"road_traffic_density\"] = df1.loc[:, \"road_traffic_density\"].str.strip()\n",
    "df1.loc[:, \"type_of_order\"] = df1.loc[:, \"type_of_order\"].str.strip()\n",
    "df1.loc[:, \"type_of_vehicle\"] = df1.loc[:, \"type_of_vehicle\"].str.strip()\n",
    "df1.loc[:, \"city\"] = df1.loc[:, \"city\"].str.strip()\n",
    "df1.loc[:, \"festival\"] = df1.loc[:, \"festival\"].str.strip()\n",
    "\n",
    "# Limpando a coluna time_taken\n",
    "df1['time_taken(min)'] = df1['time_taken(min)'].apply(\n",
    "    lambda x: x.split('(min)')[1])\n",
    "df1['time_taken(min)'] = df1['time_taken(min)'].astype('int64')\n"
   ]
  },
  {
   "cell_type": "code",
   "execution_count": 63,
   "metadata": {},
   "outputs": [
    {
     "data": {
      "text/plain": [
       "id                                     object\n",
       "delivery_person_id                     object\n",
       "delivery_person_age                     int64\n",
       "delivery_person_ratings               float64\n",
       "restaurant_latitude                   float64\n",
       "restaurant_longitude                  float64\n",
       "delivery_location_latitude            float64\n",
       "delivery_location_longitude           float64\n",
       "order_date                     datetime64[ns]\n",
       "time_orderd                            object\n",
       "time_order_picked                      object\n",
       "weatherconditions                      object\n",
       "road_traffic_density                   object\n",
       "vehicle_condition                       int64\n",
       "type_of_order                          object\n",
       "type_of_vehicle                        object\n",
       "multiple_deliveries                     int64\n",
       "festival                               object\n",
       "city                                   object\n",
       "time_taken(min)                         int64\n",
       "dtype: object"
      ]
     },
     "execution_count": 63,
     "metadata": {},
     "output_type": "execute_result"
    }
   ],
   "source": [
    "df1.dtypes"
   ]
  },
  {
   "attachments": {},
   "cell_type": "markdown",
   "metadata": {},
   "source": [
    "## 1.7. Descriptive Statistical"
   ]
  },
  {
   "cell_type": "markdown",
   "metadata": {},
   "source": []
  },
  {
   "cell_type": "markdown",
   "metadata": {},
   "source": []
  },
  {
   "cell_type": "markdown",
   "metadata": {},
   "source": []
  },
  {
   "cell_type": "markdown",
   "metadata": {},
   "source": []
  }
 ],
 "metadata": {
  "kernelspec": {
   "display_name": "Python 3",
   "language": "python",
   "name": "python3"
  },
  "language_info": {
   "codemirror_mode": {
    "name": "ipython",
    "version": 3
   },
   "file_extension": ".py",
   "mimetype": "text/x-python",
   "name": "python",
   "nbconvert_exporter": "python",
   "pygments_lexer": "ipython3",
   "version": "3.9.13"
  },
  "orig_nbformat": 4,
  "vscode": {
   "interpreter": {
    "hash": "02b2cbf239989bb101797acc52e73ae36ebb8067099c4b86bf0d83adc2fff4ed"
   }
  }
 },
 "nbformat": 4,
 "nbformat_minor": 2
}
